{
  "nbformat": 4,
  "nbformat_minor": 0,
  "metadata": {
    "colab": {
      "provenance": [],
      "gpuType": "T4"
    },
    "kernelspec": {
      "name": "python3",
      "display_name": "Python 3"
    },
    "language_info": {
      "name": "python"
    },
    "accelerator": "GPU"
  },
  "cells": [
    {
      "cell_type": "markdown",
      "source": [
        "# Adaptive Security Framework - LLM Classifier\n",
        "\n",
        "This notebook aims to train a prompt injection classifier for the Adaptive security framework. The classifier is based on ELECTRA model - small and performant model."
      ],
      "metadata": {
        "id": "2BLYZ6dajFHM"
      }
    },
    {
      "cell_type": "markdown",
      "source": [
        "## Setting up the environment\n",
        "\n",
        "- Install the neccessary packages\n",
        "- login to hugging face\n",
        "- define constants for paths\n"
      ],
      "metadata": {
        "id": "m20EsE84irSb"
      }
    },
    {
      "cell_type": "code",
      "execution_count": null,
      "metadata": {
        "colab": {
          "base_uri": "https://localhost:8080/"
        },
        "id": "DJwPQLT3N3fp",
        "outputId": "a370ceb5-f6da-430e-f1b8-7a677b89e99f",
        "collapsed": true
      },
      "outputs": [
        {
          "output_type": "stream",
          "name": "stdout",
          "text": [
            "Requirement already satisfied: scikit-learn in /usr/local/lib/python3.11/dist-packages (1.6.1)\n",
            "Requirement already satisfied: transformers in /usr/local/lib/python3.11/dist-packages (4.55.0)\n",
            "Requirement already satisfied: datasets in /usr/local/lib/python3.11/dist-packages (4.0.0)\n",
            "Collecting evaluate\n",
            "  Downloading evaluate-0.4.5-py3-none-any.whl.metadata (9.5 kB)\n",
            "Requirement already satisfied: pandas in /usr/local/lib/python3.11/dist-packages (2.2.2)\n",
            "Collecting onnx\n",
            "  Downloading onnx-1.18.0-cp311-cp311-manylinux_2_17_x86_64.manylinux2014_x86_64.whl.metadata (6.9 kB)\n",
            "Collecting onnxruntime\n",
            "  Downloading onnxruntime-1.22.1-cp311-cp311-manylinux_2_27_x86_64.manylinux_2_28_x86_64.whl.metadata (4.6 kB)\n",
            "Requirement already satisfied: numpy>=1.19.5 in /usr/local/lib/python3.11/dist-packages (from scikit-learn) (2.0.2)\n",
            "Requirement already satisfied: scipy>=1.6.0 in /usr/local/lib/python3.11/dist-packages (from scikit-learn) (1.16.1)\n",
            "Requirement already satisfied: joblib>=1.2.0 in /usr/local/lib/python3.11/dist-packages (from scikit-learn) (1.5.1)\n",
            "Requirement already satisfied: threadpoolctl>=3.1.0 in /usr/local/lib/python3.11/dist-packages (from scikit-learn) (3.6.0)\n",
            "Requirement already satisfied: filelock in /usr/local/lib/python3.11/dist-packages (from transformers) (3.18.0)\n",
            "Requirement already satisfied: huggingface-hub<1.0,>=0.34.0 in /usr/local/lib/python3.11/dist-packages (from transformers) (0.34.4)\n",
            "Requirement already satisfied: packaging>=20.0 in /usr/local/lib/python3.11/dist-packages (from transformers) (25.0)\n",
            "Requirement already satisfied: pyyaml>=5.1 in /usr/local/lib/python3.11/dist-packages (from transformers) (6.0.2)\n",
            "Requirement already satisfied: regex!=2019.12.17 in /usr/local/lib/python3.11/dist-packages (from transformers) (2024.11.6)\n",
            "Requirement already satisfied: requests in /usr/local/lib/python3.11/dist-packages (from transformers) (2.32.3)\n",
            "Requirement already satisfied: tokenizers<0.22,>=0.21 in /usr/local/lib/python3.11/dist-packages (from transformers) (0.21.4)\n",
            "Requirement already satisfied: safetensors>=0.4.3 in /usr/local/lib/python3.11/dist-packages (from transformers) (0.6.2)\n",
            "Requirement already satisfied: tqdm>=4.27 in /usr/local/lib/python3.11/dist-packages (from transformers) (4.67.1)\n",
            "Requirement already satisfied: pyarrow>=15.0.0 in /usr/local/lib/python3.11/dist-packages (from datasets) (18.1.0)\n",
            "Requirement already satisfied: dill<0.3.9,>=0.3.0 in /usr/local/lib/python3.11/dist-packages (from datasets) (0.3.8)\n",
            "Requirement already satisfied: xxhash in /usr/local/lib/python3.11/dist-packages (from datasets) (3.5.0)\n",
            "Requirement already satisfied: multiprocess<0.70.17 in /usr/local/lib/python3.11/dist-packages (from datasets) (0.70.16)\n",
            "Requirement already satisfied: fsspec<=2025.3.0,>=2023.1.0 in /usr/local/lib/python3.11/dist-packages (from fsspec[http]<=2025.3.0,>=2023.1.0->datasets) (2025.3.0)\n",
            "Requirement already satisfied: python-dateutil>=2.8.2 in /usr/local/lib/python3.11/dist-packages (from pandas) (2.9.0.post0)\n",
            "Requirement already satisfied: pytz>=2020.1 in /usr/local/lib/python3.11/dist-packages (from pandas) (2025.2)\n",
            "Requirement already satisfied: tzdata>=2022.7 in /usr/local/lib/python3.11/dist-packages (from pandas) (2025.2)\n",
            "Requirement already satisfied: protobuf>=4.25.1 in /usr/local/lib/python3.11/dist-packages (from onnx) (5.29.5)\n",
            "Requirement already satisfied: typing_extensions>=4.7.1 in /usr/local/lib/python3.11/dist-packages (from onnx) (4.14.1)\n",
            "Collecting coloredlogs (from onnxruntime)\n",
            "  Downloading coloredlogs-15.0.1-py2.py3-none-any.whl.metadata (12 kB)\n",
            "Requirement already satisfied: flatbuffers in /usr/local/lib/python3.11/dist-packages (from onnxruntime) (25.2.10)\n",
            "Requirement already satisfied: sympy in /usr/local/lib/python3.11/dist-packages (from onnxruntime) (1.13.1)\n",
            "Requirement already satisfied: aiohttp!=4.0.0a0,!=4.0.0a1 in /usr/local/lib/python3.11/dist-packages (from fsspec[http]<=2025.3.0,>=2023.1.0->datasets) (3.12.15)\n",
            "Requirement already satisfied: hf-xet<2.0.0,>=1.1.3 in /usr/local/lib/python3.11/dist-packages (from huggingface-hub<1.0,>=0.34.0->transformers) (1.1.7)\n",
            "Requirement already satisfied: six>=1.5 in /usr/local/lib/python3.11/dist-packages (from python-dateutil>=2.8.2->pandas) (1.17.0)\n",
            "Requirement already satisfied: charset-normalizer<4,>=2 in /usr/local/lib/python3.11/dist-packages (from requests->transformers) (3.4.3)\n",
            "Requirement already satisfied: idna<4,>=2.5 in /usr/local/lib/python3.11/dist-packages (from requests->transformers) (3.10)\n",
            "Requirement already satisfied: urllib3<3,>=1.21.1 in /usr/local/lib/python3.11/dist-packages (from requests->transformers) (2.5.0)\n",
            "Requirement already satisfied: certifi>=2017.4.17 in /usr/local/lib/python3.11/dist-packages (from requests->transformers) (2025.8.3)\n",
            "Collecting humanfriendly>=9.1 (from coloredlogs->onnxruntime)\n",
            "  Downloading humanfriendly-10.0-py2.py3-none-any.whl.metadata (9.2 kB)\n",
            "Requirement already satisfied: mpmath<1.4,>=1.1.0 in /usr/local/lib/python3.11/dist-packages (from sympy->onnxruntime) (1.3.0)\n",
            "Requirement already satisfied: aiohappyeyeballs>=2.5.0 in /usr/local/lib/python3.11/dist-packages (from aiohttp!=4.0.0a0,!=4.0.0a1->fsspec[http]<=2025.3.0,>=2023.1.0->datasets) (2.6.1)\n",
            "Requirement already satisfied: aiosignal>=1.4.0 in /usr/local/lib/python3.11/dist-packages (from aiohttp!=4.0.0a0,!=4.0.0a1->fsspec[http]<=2025.3.0,>=2023.1.0->datasets) (1.4.0)\n",
            "Requirement already satisfied: attrs>=17.3.0 in /usr/local/lib/python3.11/dist-packages (from aiohttp!=4.0.0a0,!=4.0.0a1->fsspec[http]<=2025.3.0,>=2023.1.0->datasets) (25.3.0)\n",
            "Requirement already satisfied: frozenlist>=1.1.1 in /usr/local/lib/python3.11/dist-packages (from aiohttp!=4.0.0a0,!=4.0.0a1->fsspec[http]<=2025.3.0,>=2023.1.0->datasets) (1.7.0)\n",
            "Requirement already satisfied: multidict<7.0,>=4.5 in /usr/local/lib/python3.11/dist-packages (from aiohttp!=4.0.0a0,!=4.0.0a1->fsspec[http]<=2025.3.0,>=2023.1.0->datasets) (6.6.4)\n",
            "Requirement already satisfied: propcache>=0.2.0 in /usr/local/lib/python3.11/dist-packages (from aiohttp!=4.0.0a0,!=4.0.0a1->fsspec[http]<=2025.3.0,>=2023.1.0->datasets) (0.3.2)\n",
            "Requirement already satisfied: yarl<2.0,>=1.17.0 in /usr/local/lib/python3.11/dist-packages (from aiohttp!=4.0.0a0,!=4.0.0a1->fsspec[http]<=2025.3.0,>=2023.1.0->datasets) (1.20.1)\n",
            "Downloading evaluate-0.4.5-py3-none-any.whl (84 kB)\n",
            "\u001b[2K   \u001b[90m━━━━━━━━━━━━━━━━━━━━━━━━━━━━━━━━━━━━━━━━\u001b[0m \u001b[32m84.1/84.1 kB\u001b[0m \u001b[31m2.1 MB/s\u001b[0m eta \u001b[36m0:00:00\u001b[0m\n",
            "\u001b[?25hDownloading onnx-1.18.0-cp311-cp311-manylinux_2_17_x86_64.manylinux2014_x86_64.whl (17.6 MB)\n",
            "\u001b[2K   \u001b[90m━━━━━━━━━━━━━━━━━━━━━━━━━━━━━━━━━━━━━━━━\u001b[0m \u001b[32m17.6/17.6 MB\u001b[0m \u001b[31m80.3 MB/s\u001b[0m eta \u001b[36m0:00:00\u001b[0m\n",
            "\u001b[?25hDownloading onnxruntime-1.22.1-cp311-cp311-manylinux_2_27_x86_64.manylinux_2_28_x86_64.whl (16.5 MB)\n",
            "\u001b[2K   \u001b[90m━━━━━━━━━━━━━━━━━━━━━━━━━━━━━━━━━━━━━━━━\u001b[0m \u001b[32m16.5/16.5 MB\u001b[0m \u001b[31m87.1 MB/s\u001b[0m eta \u001b[36m0:00:00\u001b[0m\n",
            "\u001b[?25hDownloading coloredlogs-15.0.1-py2.py3-none-any.whl (46 kB)\n",
            "\u001b[2K   \u001b[90m━━━━━━━━━━━━━━━━━━━━━━━━━━━━━━━━━━━━━━━━\u001b[0m \u001b[32m46.0/46.0 kB\u001b[0m \u001b[31m3.1 MB/s\u001b[0m eta \u001b[36m0:00:00\u001b[0m\n",
            "\u001b[?25hDownloading humanfriendly-10.0-py2.py3-none-any.whl (86 kB)\n",
            "\u001b[2K   \u001b[90m━━━━━━━━━━━━━━━━━━━━━━━━━━━━━━━━━━━━━━━━\u001b[0m \u001b[32m86.8/86.8 kB\u001b[0m \u001b[31m5.6 MB/s\u001b[0m eta \u001b[36m0:00:00\u001b[0m\n",
            "\u001b[?25hInstalling collected packages: onnx, humanfriendly, coloredlogs, onnxruntime, evaluate\n",
            "Successfully installed coloredlogs-15.0.1 evaluate-0.4.5 humanfriendly-10.0 onnx-1.18.0 onnxruntime-1.22.1\n"
          ]
        }
      ],
      "source": [
        "!pip install scikit-learn transformers datasets evaluate pandas onnx onnxruntime"
      ]
    },
    {
      "cell_type": "code",
      "source": [
        "from huggingface_hub import notebook_login\n",
        "\n",
        "notebook_login()"
      ],
      "metadata": {
        "colab": {
          "base_uri": "https://localhost:8080/",
          "height": 387,
          "referenced_widgets": [
            "d35e534b56624efb91387b5ff081aaf9",
            "27cb4c955f1746be90a867c9abf12321",
            "2144b24ee5a84dcc84fd584fd19ce2a9",
            "e7caba379fdb48d688a930f76115dd58",
            "10edde223db14a5da12a8d4e43bc8b08",
            "0d3e0a5475f0464fb103f0833637640f",
            "4b8b84e86d2e4714a00c31b635702f9c",
            "3f2e78dd99b5482b9202c3d57e23630d",
            "c739b5ca89fa4282b49452868ed761b5",
            "92d08a58cfc1456dbc10a181d7c8c6dc",
            "83839112bd5f42f18aaf570b0c174294",
            "ab61728db8024921b1e2ec321dffdcb4",
            "c5503ef506054034aa57f045ad5cbb6e",
            "6fb67f9844e247d391b9074caa498da7",
            "4a2673052dd942e59a62cd5bcf03c33a",
            "8aac13ddf9d9403290786944e218e43f",
            "94a0faeeaf2545058306ff28b7051b3d"
          ]
        },
        "collapsed": true,
        "id": "yNU54819jucG",
        "outputId": "8b1cdb68-e03f-40ce-a231-786e28a52055"
      },
      "execution_count": null,
      "outputs": [
        {
          "output_type": "display_data",
          "data": {
            "text/plain": [
              "VBox(children=(HTML(value='<center> <img\\nsrc=https://huggingface.co/front/assets/huggingface_logo-noborder.sv…"
            ],
            "application/vnd.jupyter.widget-view+json": {
              "version_major": 2,
              "version_minor": 0,
              "model_id": "d35e534b56624efb91387b5ff081aaf9"
            }
          },
          "metadata": {}
        }
      ]
    },
    {
      "cell_type": "code",
      "source": [
        "HF_DATASET = \"3nthusiast/ASF\"\n",
        "HF_MODEL = \"3nthusiast/SentinelAI\""
      ],
      "metadata": {
        "id": "88qc3kSbj-tz"
      },
      "execution_count": null,
      "outputs": []
    },
    {
      "cell_type": "code",
      "source": [
        "from datasets import load_dataset, DatasetDict\n",
        "from sklearn.model_selection import train_test_split\n",
        "import pandas as pd\n",
        "\n",
        "dataset = load_dataset(HF_DATASET)\n",
        "\n",
        "llm_dataset = DatasetDict({\n",
        "    'train': dataset['llm_train'],\n",
        "    'validation': dataset['llm_dev'],\n",
        "    'test': dataset['llm_test']\n",
        "})\n",
        "\n",
        "print(llm_dataset)"
      ],
      "metadata": {
        "id": "5AkRcAw2ODUy",
        "colab": {
          "base_uri": "https://localhost:8080/",
          "height": 651,
          "referenced_widgets": [
            "55fc1b7f943b426aaf778b976b9cf0ce",
            "91b06b7598514efd9293bf4e74f69b01",
            "97279f0254e24b899f5ce3d119a259d6",
            "c9419e92f5e34c95912e34a5eeeddd54",
            "bed9d4fe25f74ba498de461489e5929c",
            "046d2d5e909645908fbc311c40f6c81b",
            "3e69bb2bb5044fe68dfef16666b2f113",
            "65b4d50ddec44682841ece3eb8cb4b72",
            "5d6b9870c540411392603558fc503269",
            "988a5d68a76445dc8505a946a73efa5e",
            "cb5f92ffec5c4dc7a726723b341d6eab",
            "af110ba5f1a647b5a486a626fae46846",
            "61d8fd9fa03e4ecfbbc036ac078f6235",
            "1ee2bb3cdf90486e92beca3d899b7b0b",
            "d6bf0882bf744f55892f12dc1e28b888",
            "3138baa57d734f45b707b3ffb60bab9e",
            "db87b1deaddc46d6b580967decf67b06",
            "0fa6d55a36b949be9d86d9c3c80f3621",
            "f850d46fdfaa4a608706f0f317989f35",
            "aab7b4320de445d3ab6f59e198d48eef",
            "05b419965f624d898bc0d47c9a9e012d",
            "e3e8f3be56bc4532b7bb54a8b02d49a0",
            "47ea1bb312ef430faa3302006f8720b3",
            "01c28be891f04f59a2a72e0a3a9105cb",
            "be05f584843d4bdf9a8a75ec62972184",
            "e342b944260643d9ae5643cb27795de1",
            "6d952ebcd78f40069d4055438af4783f",
            "3110aca3274d4c48bcb2e306e0ad056c",
            "1a8dffdd44a04f09a7336fffb49580e4",
            "b320662974524923ae6bc827aad71488",
            "008d1b48b09b45dab8c20e347d0c9352",
            "ae3e46995d6f4b9182475b91743d8bdd",
            "3b016f0a444e44c98663df3fe613e590",
            "bcb8e96b85e041c7ad799cdbe96ad34e",
            "a243785e38b54307a052cfb841e7f373",
            "8dfb2ebffdff418781d15352bd9f0dbe",
            "632741ca57d646c491c998d5494419d8",
            "03fcec9baae24fcaac83cbf301870817",
            "cd4fca3176b74ac9acc34875b36a7e48",
            "f1e05aca72054f118c54d1ee4ada782e",
            "439cf7d7f0f945cb8fd92391be674659",
            "e34969508dbd4dfc9c4d8eff68f51f1d",
            "a0684bfb12c147b380c06c112fbb6de6",
            "1380af8b71e349b596071cc776df344e",
            "d354d414b65f4282b1410412342152a9",
            "00a1b77922074b90971bc2a69c09ee2c",
            "9270729b5ffb4c88b73d86a4899f9e4a",
            "2e56b13aa9ec4cf2ba594b99fd6f9b3a",
            "d0db519f404e49f2baa98b0f6e92ca6e",
            "669f4a909762406683c2d452f1a7abb6",
            "a4081091a400484496f02f772cfec7dd",
            "3e0592beb3da4530a4c56d1d4cc3515c",
            "4095612464f54ccd8b047158d295050f",
            "2f4cdca31a8443e8b1bfc0372533488a",
            "08a39a35c23d4f9ca84505f1b9d071f5",
            "cb02f3aa27554df596f6b4cdbfad336f",
            "f17c59f6e4f84c55bf8a5a3dbd28ad4d",
            "79b6c66aaf2d4d2bb7e8b92f0ba2e4ae",
            "18724da8efdf467ba5b5d724f98839ee",
            "0a2a7baa65fb4e94b40f50be6493643c",
            "4036e9c1f2004cdb9666344548202e59",
            "5ff0e06cd18d4e4cbcb24b3e4e65f6bb",
            "998b881dd8354485836ea0373664ed1d",
            "3f03d0c721ae42e89f6fb80cc94eb095",
            "f7e06c46020d438d90188966500065a0",
            "ccafb1deb3894f76b4fce335af8f1ab2",
            "8422315397ee441e8908f32e55fbe94b",
            "e8735e7da1404610b684a6a97d7f7042",
            "1512b9864b34485d90d68827a0ff563d",
            "795e661a986e408081671daa4d198d3b",
            "67212d58d6c5436890b9991a7b29ccca",
            "4dc31ceedada4abf9eb2e4571d521ded",
            "7b1efb822a7b482bb66fb9e36cf73cf2",
            "15787b759efd4065818a3631fd2cd19a",
            "c22d5cf140bc427ab3e663fa86f9df10",
            "9374266f47b744e5a6a33b4c30e81d24",
            "14af63b6ce854933a49197118d1338fe",
            "e88bc93832244bac97aa5304ba38ff27",
            "5120b92b7818489b896aa2b2b88290e8",
            "89b2ef254ef740e2af1ad1a375c478c9",
            "b6519cadcbe145efad6c314796429702",
            "4887956d248c4d32a824895f5ef14c90",
            "6e767b06e3b24d69902eb884a4c3ccca",
            "4bc5472d34334c509e27487748cbc295",
            "0bbc12775bd548e58b6e9c9a501f879d",
            "5f2bb378437048dea9260de62126270d",
            "06603706c94d42a79a438468bda027a6",
            "f18cbdbbfc904288bbef6a6fc3c63147",
            "aafccf56fe01470bb4499ae5f28db5fa",
            "d37a2efed827498ab55ab276bac15dce",
            "29954229d1824ce2b419168950885cd8",
            "68a69493fdb14a79a104fb8418261cd6",
            "b75d295b56504f8ca2bf4c23711f3b0c",
            "aaad7591155c4f438ce6d0e079a286d7",
            "80b9e3ff801940c0b6548ce23c2cdd03",
            "86f936ee6d6a4f42afd6575d7a22698e",
            "b25ba37c0c7d4231be16a83272afc4d5",
            "637db1693ab3422eb47cc55bc1e47599",
            "fa665989d3004247b87e728fdf7c8f43",
            "ee6ce512a74d4b53b689916e6111131e",
            "8ea73d71d48f4b8bb36a51c303783bc6",
            "30ede13379a047f79c12597a0d5f82ac",
            "bb512aacc5134056b09f5669474b4380",
            "999e385c3dfc451ab8954abed3b5f97b",
            "6873ef20c03245c7817ec8936a071622",
            "55677603aeca473b9ccb882f974aaaf6",
            "13c95810a3da446282aa0fdcdee00fad",
            "e1535f43be474c50a3d01212ab2d7244",
            "b56a971af6de4c70b2c015e6ccbeb7c2",
            "908b0261a3a74cb797b2fee4f5bd32fe",
            "2c94ef0e58054b00884aab812d11a245",
            "5d1ba4c296234a3c8f26f63cede2fc44",
            "985412affdbb48cd90fe726cfdf6ee41",
            "7cf893da99ac4eb7bd66aaca67384f73",
            "810619cab45a43399d6bd28e1c87ca2b",
            "7d789905612f4fa1a15c03229d45651b",
            "553f523b68c94a6f808a1bfbfc683047",
            "40b7aeb3718b4aef8ce563ebe2f9a7c6",
            "b85b33f7ff434845a79d4b04736e8204",
            "95b64f38cac146bcb44897bf116f10d8",
            "698c9ae7df7748e99df09a8b70ce6399",
            "2185c4b5afb2408ea582153b83c29196",
            "229e2f819ae24c508388f6d1287d61f6",
            "7407cf3b1a754d9cbf02378d29cbe600",
            "c03e8c39e4a4447b802377c2765e392c",
            "372b6267231f4e439fa6ebd425e708eb",
            "6ae09f3a6283440eb279a0f9fc37730d",
            "b250d6629be14756b46ef8bcffcdaa60",
            "7c4327a6ecbc49d69c0f098f1f414d90",
            "999ef0b59fca4ef299752552920686b1",
            "f4f176e96f3a471f848edbe955432ea2",
            "e6fa8ffad0fe42199c475c019970a809"
          ]
        },
        "outputId": "4ab1801d-4c72-40d2-d7a7-7f98454431b5",
        "collapsed": true
      },
      "execution_count": null,
      "outputs": [
        {
          "output_type": "display_data",
          "data": {
            "text/plain": [
              "data/llm_train-00000-of-00001.parquet:   0%|          | 0.00/10.8M [00:00<?, ?B/s]"
            ],
            "application/vnd.jupyter.widget-view+json": {
              "version_major": 2,
              "version_minor": 0,
              "model_id": "55fc1b7f943b426aaf778b976b9cf0ce"
            }
          },
          "metadata": {}
        },
        {
          "output_type": "display_data",
          "data": {
            "text/plain": [
              "data/llm_dev-00000-of-00001.parquet:   0%|          | 0.00/2.26M [00:00<?, ?B/s]"
            ],
            "application/vnd.jupyter.widget-view+json": {
              "version_major": 2,
              "version_minor": 0,
              "model_id": "af110ba5f1a647b5a486a626fae46846"
            }
          },
          "metadata": {}
        },
        {
          "output_type": "display_data",
          "data": {
            "text/plain": [
              "data/llm_test-00000-of-00001.parquet:   0%|          | 0.00/2.28M [00:00<?, ?B/s]"
            ],
            "application/vnd.jupyter.widget-view+json": {
              "version_major": 2,
              "version_minor": 0,
              "model_id": "47ea1bb312ef430faa3302006f8720b3"
            }
          },
          "metadata": {}
        },
        {
          "output_type": "display_data",
          "data": {
            "text/plain": [
              "data/rl_train-00000-of-00001.parquet:   0%|          | 0.00/2.58M [00:00<?, ?B/s]"
            ],
            "application/vnd.jupyter.widget-view+json": {
              "version_major": 2,
              "version_minor": 0,
              "model_id": "bcb8e96b85e041c7ad799cdbe96ad34e"
            }
          },
          "metadata": {}
        },
        {
          "output_type": "display_data",
          "data": {
            "text/plain": [
              "data/rl_dev-00000-of-00001.parquet:   0%|          | 0.00/545k [00:00<?, ?B/s]"
            ],
            "application/vnd.jupyter.widget-view+json": {
              "version_major": 2,
              "version_minor": 0,
              "model_id": "d354d414b65f4282b1410412342152a9"
            }
          },
          "metadata": {}
        },
        {
          "output_type": "display_data",
          "data": {
            "text/plain": [
              "data/rl_test-00000-of-00001.parquet:   0%|          | 0.00/657k [00:00<?, ?B/s]"
            ],
            "application/vnd.jupyter.widget-view+json": {
              "version_major": 2,
              "version_minor": 0,
              "model_id": "cb02f3aa27554df596f6b4cdbfad336f"
            }
          },
          "metadata": {}
        },
        {
          "output_type": "display_data",
          "data": {
            "text/plain": [
              "Generating llm_train split:   0%|          | 0/91107 [00:00<?, ? examples/s]"
            ],
            "application/vnd.jupyter.widget-view+json": {
              "version_major": 2,
              "version_minor": 0,
              "model_id": "8422315397ee441e8908f32e55fbe94b"
            }
          },
          "metadata": {}
        },
        {
          "output_type": "display_data",
          "data": {
            "text/plain": [
              "Generating llm_dev split:   0%|          | 0/19523 [00:00<?, ? examples/s]"
            ],
            "application/vnd.jupyter.widget-view+json": {
              "version_major": 2,
              "version_minor": 0,
              "model_id": "e88bc93832244bac97aa5304ba38ff27"
            }
          },
          "metadata": {}
        },
        {
          "output_type": "display_data",
          "data": {
            "text/plain": [
              "Generating llm_test split:   0%|          | 0/19524 [00:00<?, ? examples/s]"
            ],
            "application/vnd.jupyter.widget-view+json": {
              "version_major": 2,
              "version_minor": 0,
              "model_id": "aafccf56fe01470bb4499ae5f28db5fa"
            }
          },
          "metadata": {}
        },
        {
          "output_type": "display_data",
          "data": {
            "text/plain": [
              "Generating rl_train split:   0%|          | 0/22777 [00:00<?, ? examples/s]"
            ],
            "application/vnd.jupyter.widget-view+json": {
              "version_major": 2,
              "version_minor": 0,
              "model_id": "ee6ce512a74d4b53b689916e6111131e"
            }
          },
          "metadata": {}
        },
        {
          "output_type": "display_data",
          "data": {
            "text/plain": [
              "Generating rl_dev split:   0%|          | 0/4881 [00:00<?, ? examples/s]"
            ],
            "application/vnd.jupyter.widget-view+json": {
              "version_major": 2,
              "version_minor": 0,
              "model_id": "2c94ef0e58054b00884aab812d11a245"
            }
          },
          "metadata": {}
        },
        {
          "output_type": "display_data",
          "data": {
            "text/plain": [
              "Generating rl_test split:   0%|          | 0/4881 [00:00<?, ? examples/s]"
            ],
            "application/vnd.jupyter.widget-view+json": {
              "version_major": 2,
              "version_minor": 0,
              "model_id": "2185c4b5afb2408ea582153b83c29196"
            }
          },
          "metadata": {}
        },
        {
          "output_type": "stream",
          "name": "stdout",
          "text": [
            "DatasetDict({\n",
            "    train: Dataset({\n",
            "        features: ['text', 'label', '__index_level_0__'],\n",
            "        num_rows: 91107\n",
            "    })\n",
            "    validation: Dataset({\n",
            "        features: ['text', 'label', '__index_level_0__'],\n",
            "        num_rows: 19523\n",
            "    })\n",
            "    test: Dataset({\n",
            "        features: ['text', 'label', '__index_level_0__'],\n",
            "        num_rows: 19524\n",
            "    })\n",
            "})\n"
          ]
        }
      ]
    },
    {
      "cell_type": "markdown",
      "source": [
        "# Training the model\n",
        "\n"
      ],
      "metadata": {
        "id": "GfEfq2fgVC3k"
      }
    },
    {
      "cell_type": "code",
      "source": [
        "from transformers import ElectraForSequenceClassification\n",
        "\n",
        "# Load the ELECTRA-small model from Hugging Face\n",
        "model = ElectraForSequenceClassification.from_pretrained(\"google/electra-small-discriminator\")\n",
        "\n",
        "num_params = sum(p.numel() for p in model.parameters())\n",
        "print(f\"ELECTRA-small has approximately {num_params} parameters\")"
      ],
      "metadata": {
        "id": "pkkTNnCOnXKK",
        "colab": {
          "base_uri": "https://localhost:8080/",
          "height": 155,
          "referenced_widgets": [
            "5147b6a0db4e48aaa3b2e0ecb5cbf9ce",
            "48d3bfe030814578bfef882d80d3cf46",
            "56e695f1d5034e5ba4621f493924de8d",
            "733ba35c14b74483bafbe836f68df119",
            "99906e7917f14a0f87569928fba10f5d",
            "c99b339128e0492b8dc3860c22b2d9fb",
            "32f53df3241d458faaa2e46e63acdddf",
            "fb58d4e319e0409fac42407e4abca0ee",
            "49d2cb0aa90745218dc27253c40f1d6e",
            "7edecdc6d8b046ac82489ade7cf8867f",
            "b42f2a6f5e1a4fd29c4d6a062fb48ec9",
            "a87253d8e2f2494cac4434b9342e4430",
            "6aa4ecfea9e04d85822307fd7ee8ed87",
            "d6f02b5f108e42c3ab9abf00d1ec1cdd",
            "f7de0c21f77a4b61949be81ec72366dc",
            "f255355f109a4537ad7eabd3079cd07a",
            "33b53e25e54f4fee85f2bca404b7b3a9",
            "e659ff835e7c4431a8705e725618afa3",
            "2c30aa989a3b4895a429edb5e89058e1",
            "e66bba9c12f44fa0acd0936f0185a358",
            "65b26d661a91482493cf223397042a94",
            "2e15d75aea8440c9b61aa2cb3e4a7604"
          ]
        },
        "outputId": "d563c898-c99a-433e-c1fd-774d18dd70dc"
      },
      "execution_count": null,
      "outputs": [
        {
          "output_type": "display_data",
          "data": {
            "text/plain": [
              "config.json:   0%|          | 0.00/665 [00:00<?, ?B/s]"
            ],
            "application/vnd.jupyter.widget-view+json": {
              "version_major": 2,
              "version_minor": 0,
              "model_id": "5147b6a0db4e48aaa3b2e0ecb5cbf9ce"
            }
          },
          "metadata": {}
        },
        {
          "output_type": "display_data",
          "data": {
            "text/plain": [
              "pytorch_model.bin:   0%|          | 0.00/54.2M [00:00<?, ?B/s]"
            ],
            "application/vnd.jupyter.widget-view+json": {
              "version_major": 2,
              "version_minor": 0,
              "model_id": "a87253d8e2f2494cac4434b9342e4430"
            }
          },
          "metadata": {}
        },
        {
          "output_type": "stream",
          "name": "stderr",
          "text": [
            "Some weights of ElectraForSequenceClassification were not initialized from the model checkpoint at google/electra-small-discriminator and are newly initialized: ['classifier.dense.bias', 'classifier.dense.weight', 'classifier.out_proj.bias', 'classifier.out_proj.weight']\n",
            "You should probably TRAIN this model on a down-stream task to be able to use it for predictions and inference.\n"
          ]
        },
        {
          "output_type": "stream",
          "name": "stdout",
          "text": [
            "ELECTRA-small has approximately 13549314 parameters\n"
          ]
        }
      ]
    },
    {
      "cell_type": "code",
      "source": [
        "from datasets import load_dataset\n",
        "import evaluate\n",
        "from transformers import ElectraTokenizer, ElectraForSequenceClassification, TrainingArguments, Trainer\n",
        "import torch\n",
        "\n",
        "dataset = llm_dataset\n",
        "\n",
        "\n",
        "tokenizer = ElectraTokenizer.from_pretrained(\"google/electra-small-discriminator\")\n",
        "model = ElectraForSequenceClassification.from_pretrained(\n",
        "    \"google/electra-small-discriminator\", num_labels=2\n",
        ")\n",
        "\n",
        "device = torch.device(\"cuda\" if torch.cuda.is_available() else \"cpu\")\n",
        "model.to(device)\n",
        "print(f\"Using device: {device}\")\n",
        "\n",
        "\n",
        "def tokenize_function(example):\n",
        "    return tokenizer(example[\"text\"], truncation=True, padding=\"max_length\", max_length=128)\n",
        "\n",
        "\n",
        "tokenized_datasets = dataset.map(tokenize_function, batched=True, num_proc=4)\n",
        "\n",
        "\n",
        "tokenized_datasets.set_format(\"torch\", columns=[\"input_ids\", \"attention_mask\", \"label\"])\n",
        "\n",
        "\n",
        "accuracy_metric = evaluate.load(\"accuracy\")\n",
        "\n",
        "def compute_metrics(eval_pred):\n",
        "    logits, labels = eval_pred\n",
        "    predictions = logits.argmax(axis=-1)\n",
        "    return accuracy_metric.compute(predictions=predictions, references=labels)\n",
        "\n",
        "training_args = TrainingArguments(\n",
        "    output_dir=\"/content/drive/MyDrive/ASF/models/electra_harmful_prompts/\",\n",
        "    eval_strategy=\"epoch\",\n",
        "    save_strategy=\"epoch\",\n",
        "    learning_rate=2e-5,\n",
        "    per_device_train_batch_size=16,\n",
        "    per_device_eval_batch_size=16,\n",
        "    num_train_epochs=3,\n",
        "    weight_decay=0.01,\n",
        "    load_best_model_at_end=True,\n",
        "    metric_for_best_model=\"accuracy\",\n",
        "    report_to=\"none\"\n",
        ")\n",
        "\n",
        "\n",
        "trainer = Trainer(\n",
        "    model=model,\n",
        "    args=training_args,\n",
        "    train_dataset=tokenized_datasets[\"train\"],\n",
        "    eval_dataset=tokenized_datasets[\"validation\"],\n",
        "    compute_metrics=compute_metrics,\n",
        ")\n",
        "\n",
        "\n",
        "trainer.train()\n",
        "\n",
        "test_results = trainer.evaluate(tokenized_datasets[\"test\"])\n",
        "print(\"Test results:\", test_results)"
      ],
      "metadata": {
        "colab": {
          "base_uri": "https://localhost:8080/",
          "height": 381,
          "referenced_widgets": [
            "1b215fc6c309426986ef697cb794304c",
            "6a2ee817c7cd4fa2a8ef70fcb00fcd25",
            "16e59e7cbf0c493da2a5fc617520eebb",
            "6d6b5c29eb194269899d1a29f4c59004",
            "02b6a1ccd43341af8e579e7c7a00df23",
            "30afd74325ea4b178b65c4f8b2e06b7b",
            "0a371c9b301d4e02b0e78bd518754e81",
            "25c262c1b3d94f32b03c7e913b3bd281",
            "df924c51e5e8404cb2bf8a002b49e0f8",
            "b666d8beb94744cdaaea025a25175e29",
            "d13d0a74ef024840b6b4029a40c12c17",
            "a5eb4823f0a2427099a4457abc3f62da",
            "5fb6ef3239b04850b2cf2b4f740cc76f",
            "18954b5dcb3e4832b5b6b38bf5a160f1",
            "d51fc9b2ebcb4b749c1c7e2c4536e8c4",
            "56abc3eb8e4b4ab08d12948202094b27",
            "2111a34b8b3e40119590c73b563634b9",
            "83381e1a9b224984a4d74acc7f639a59",
            "48290c5271f64792ac927e561439c81b",
            "c279f2272bf940a09b870ce91c045019",
            "1db73a0dca044151a07d2c564f3a5eab",
            "ccc19917b57c4f4fa3588d8e71c51b75",
            "a8d9b4c5a13846c9baa206790ee05909",
            "b836d178679b419c86d23cd2e1da010a",
            "b1336a35b2e34b71940324a35c1a5d32",
            "60b45f0404f949108f5568db5888b9cf",
            "3a33338673ca46ddbef15844aa6ab3ba",
            "dbd184eb9fa24c1eb500bd166f15bda6",
            "9e6862c8b6584a46becb740c836e3d79",
            "9048fc609f1940bd9ed0a7d388f5e213",
            "d0e5df50eb0545308e37a50c07499142",
            "3e6efe9463934a24bab89201a6998191",
            "2784a98c03c8429cbd95e365cc7b3a1d"
          ]
        },
        "id": "hGRgcLQxe-Am",
        "outputId": "5c6c650f-2414-4c00-90d8-3121083bbb9e"
      },
      "execution_count": null,
      "outputs": [
        {
          "output_type": "stream",
          "name": "stderr",
          "text": [
            "Some weights of ElectraForSequenceClassification were not initialized from the model checkpoint at google/electra-small-discriminator and are newly initialized: ['classifier.dense.bias', 'classifier.dense.weight', 'classifier.out_proj.bias', 'classifier.out_proj.weight']\n",
            "You should probably TRAIN this model on a down-stream task to be able to use it for predictions and inference.\n"
          ]
        },
        {
          "output_type": "stream",
          "name": "stdout",
          "text": [
            "Using device: cuda\n"
          ]
        },
        {
          "output_type": "display_data",
          "data": {
            "text/plain": [
              "Map (num_proc=4):   0%|          | 0/19523 [00:00<?, ? examples/s]"
            ],
            "application/vnd.jupyter.widget-view+json": {
              "version_major": 2,
              "version_minor": 0,
              "model_id": "1b215fc6c309426986ef697cb794304c"
            }
          },
          "metadata": {}
        },
        {
          "output_type": "display_data",
          "data": {
            "text/plain": [
              "Map (num_proc=4):   0%|          | 0/19524 [00:00<?, ? examples/s]"
            ],
            "application/vnd.jupyter.widget-view+json": {
              "version_major": 2,
              "version_minor": 0,
              "model_id": "a5eb4823f0a2427099a4457abc3f62da"
            }
          },
          "metadata": {}
        },
        {
          "output_type": "display_data",
          "data": {
            "text/plain": [
              "Downloading builder script: 0.00B [00:00, ?B/s]"
            ],
            "application/vnd.jupyter.widget-view+json": {
              "version_major": 2,
              "version_minor": 0,
              "model_id": "a8d9b4c5a13846c9baa206790ee05909"
            }
          },
          "metadata": {}
        },
        {
          "output_type": "display_data",
          "data": {
            "text/plain": [
              "<IPython.core.display.HTML object>"
            ],
            "text/html": [
              "\n",
              "    <div>\n",
              "      \n",
              "      <progress value='17085' max='17085' style='width:300px; height:20px; vertical-align: middle;'></progress>\n",
              "      [17085/17085 17:57, Epoch 3/3]\n",
              "    </div>\n",
              "    <table border=\"1\" class=\"dataframe\">\n",
              "  <thead>\n",
              " <tr style=\"text-align: left;\">\n",
              "      <th>Epoch</th>\n",
              "      <th>Training Loss</th>\n",
              "      <th>Validation Loss</th>\n",
              "      <th>Accuracy</th>\n",
              "    </tr>\n",
              "  </thead>\n",
              "  <tbody>\n",
              "    <tr>\n",
              "      <td>1</td>\n",
              "      <td>0.017900</td>\n",
              "      <td>0.021020</td>\n",
              "      <td>0.996005</td>\n",
              "    </tr>\n",
              "    <tr>\n",
              "      <td>2</td>\n",
              "      <td>0.007100</td>\n",
              "      <td>0.016831</td>\n",
              "      <td>0.996722</td>\n",
              "    </tr>\n",
              "    <tr>\n",
              "      <td>3</td>\n",
              "      <td>0.004500</td>\n",
              "      <td>0.018545</td>\n",
              "      <td>0.996875</td>\n",
              "    </tr>\n",
              "  </tbody>\n",
              "</table><p>"
            ]
          },
          "metadata": {}
        },
        {
          "output_type": "display_data",
          "data": {
            "text/plain": [
              "<IPython.core.display.HTML object>"
            ],
            "text/html": [
              "\n",
              "    <div>\n",
              "      \n",
              "      <progress value='1221' max='1221' style='width:300px; height:20px; vertical-align: middle;'></progress>\n",
              "      [1221/1221 00:23]\n",
              "    </div>\n",
              "    "
            ]
          },
          "metadata": {}
        },
        {
          "output_type": "stream",
          "name": "stdout",
          "text": [
            "Test results: {'eval_loss': 0.01084157731384039, 'eval_accuracy': 0.9977463634501127, 'eval_runtime': 24.0227, 'eval_samples_per_second': 812.733, 'eval_steps_per_second': 50.827, 'epoch': 3.0}\n"
          ]
        }
      ]
    },
    {
      "cell_type": "code",
      "source": [
        "\n",
        "trainer.save_model(\"/content/drive/MyDrive/ASF/models/electra-harmful-prompts/final_model\")\n",
        "tokenizer.save_pretrained(\"/content/drive/MyDrive/ASF/models/electra-harmful-prompts/final_model\")"
      ],
      "metadata": {
        "id": "oINn9prhgaev",
        "colab": {
          "base_uri": "https://localhost:8080/"
        },
        "outputId": "3795c31e-ae5c-4784-c623-e19b76831e0e"
      },
      "execution_count": null,
      "outputs": [
        {
          "output_type": "execute_result",
          "data": {
            "text/plain": [
              "('/content/drive/MyDrive/ASF/models/electra-harmful-prompts/final_model/tokenizer_config.json',\n",
              " '/content/drive/MyDrive/ASF/models/electra-harmful-prompts/final_model/special_tokens_map.json',\n",
              " '/content/drive/MyDrive/ASF/models/electra-harmful-prompts/final_model/vocab.txt',\n",
              " '/content/drive/MyDrive/ASF/models/electra-harmful-prompts/final_model/added_tokens.json')"
            ]
          },
          "metadata": {},
          "execution_count": 9
        }
      ]
    },
    {
      "cell_type": "markdown",
      "source": [
        "## ONNX export\n",
        "\n",
        "- Export Pytorch model to ONNX format for better CPU inference.\n"
      ],
      "metadata": {
        "id": "CFSusVsAlVp7"
      }
    },
    {
      "cell_type": "code",
      "metadata": {
        "colab": {
          "base_uri": "https://localhost:8080/"
        },
        "id": "7c6695ac",
        "outputId": "d3cd23bc-5b77-4921-d8c0-ba182810c805"
      },
      "source": [
        "from transformers import ElectraTokenizer, ElectraForSequenceClassification\n",
        "import torch\n",
        "import os\n",
        "\n",
        "model_path = \"/content/drive/MyDrive/ASF/models/electra-harmful-prompts/final_model\"\n",
        "onnx_model_path = \"/content/drive/MyDrive/ASF/models/electra-harmful-prompts/final_model.onnx\"\n",
        "\n",
        "\n",
        "tokenizer = ElectraTokenizer.from_pretrained(model_path, local_files_only=True)\n",
        "model = ElectraForSequenceClassification.from_pretrained(model_path, local_files_only=True)\n",
        "\n",
        "model.eval()\n",
        "\n",
        "max_length = 128\n",
        "dummy_input = tokenizer(\"This is a dummy input sentence to trace the model.\", return_tensors=\"pt\", padding=\"max_length\", truncation=True, max_length=max_length)\n",
        "\n",
        "with torch.no_grad():\n",
        "    torch.onnx.export(\n",
        "        model,\n",
        "        (dummy_input['input_ids'], dummy_input['attention_mask']),\n",
        "        onnx_model_path,\n",
        "        input_names=['input_ids', 'attention_mask'],\n",
        "        output_names=['logits'],\n",
        "        dynamic_axes={'input_ids': {0: 'batch_size', 1: 'sequence_length'},\n",
        "                      'attention_mask': {0: 'batch_size', 1: 'sequence_length'},\n",
        "                      'logits': {0: 'batch_size'}},\n",
        "        opset_version=11,\n",
        "        do_constant_folding=True,\n",
        "    )\n",
        "\n",
        "print(f\"Model exported to ONNX format at: {onnx_model_path}\")"
      ],
      "execution_count": null,
      "outputs": [
        {
          "output_type": "stream",
          "name": "stdout",
          "text": [
            "Model exported to ONNX format at: /content/drive/MyDrive/ASF/models/electra-harmful-prompts/final_model.onnx\n"
          ]
        }
      ]
    },
    {
      "cell_type": "markdown",
      "source": [
        "## Push models to HF repository"
      ],
      "metadata": {
        "id": "V9vHcTd2l1RS"
      }
    },
    {
      "cell_type": "code",
      "metadata": {
        "colab": {
          "base_uri": "https://localhost:8080/",
          "height": 234,
          "referenced_widgets": [
            "b3f49a936fc04450b8659b4ed8a79bf6",
            "c6d04a9210fd4df1a06d674023edea1b",
            "49f2f62e07404aceb94e72e80fae3ce9",
            "fbdcfb1ba13d417d8e65ad916b769c1f",
            "150232fd51a442759369b7cb50130199",
            "04c460c6cc0d460fa918674cccaf1371",
            "d1f5ef283346446abfef3bcb28aef9da",
            "bf5fcf0b41d140458e9d64724661b285",
            "4f98c3cc07934f27923c1e9535dfd8a5",
            "a15c3caf99644c938746e2fe1ef19fee",
            "43f94209d2f64bafb9db2c4bd33d2fd3",
            "727b8f64e6e641d6a19cded7da82cc59",
            "4de3e8a9a1014e06bc54ecad5faddccb",
            "9511346e08c64c2cac13f0f4269fd655",
            "e37a4772d7d14e20a5cb9b57caa2ee02",
            "e7ca2029bd5745e497bf5ff53d25946f",
            "69f1574d189448518973fb45a7c5327a",
            "3da3769aceb044cdbe6cf34b27abfde0",
            "ccaab2884432459baf43eba9f92e6071",
            "4a158ff37349486898b68c3c4e0c0bfa",
            "15a1286bfea54e1091bc9d5bc2b9926b",
            "b8ba53b889b04c3caa77401a161dc170",
            "b89a6d6eba744b219419f2e14dfaae38",
            "da71855faffa4b67bbe5a5449d76fa74",
            "82190faa8a5e4cd3a0007d6330253bb6",
            "2b07322ed35f4a4ea82572241d35e6c3",
            "da959f7807814f608e02a070b450605a",
            "d16edc370e66415e9a12d1b99b23ed92",
            "ae72350e7bf844e89d060f82edefb202",
            "536c621697d74dd6b291bb177b0fe85a",
            "adda91a347c84fae8408a5aad8aadfdc",
            "be294ff9f9c14842a040df5d1572c768",
            "74a9059c2be54d1fb4c3e02b32bfe1bb",
            "dd767f42df2d4eecbb03f96745eb8d88",
            "5dde0495612840f68bea2091bf01508c",
            "cd4f422e50d64bf6b24a2bbfddda7681",
            "d12fbe9d47974ad9ad739b4824b7f2ba",
            "876e7d85928b46479c0aae1c378966e8",
            "d341331d7e514f5b89e2c373bb8a3dab",
            "9acd635f01f8436eb43b5bfb477ae764",
            "76d28b05295f484b9e9005d686659060",
            "41e52d3e5898476a8f616afff4b679b0",
            "5bf0602804744f948e0f72dbcc0117ad",
            "f15e0f8cb92540cfa51c75fa72e41f1f"
          ]
        },
        "id": "91af5bc2",
        "outputId": "f1c09cc6-5f61-4e49-9532-ce22e8b11fe1"
      },
      "source": [
        "from huggingface_hub import HfApi\n",
        "\n",
        "model_path = \"/content/drive/MyDrive/ASF/models/electra-harmful-prompts/final_model\"\n",
        "\n",
        "repo_id = \"3nthusiast/SentinelAI\"\n",
        "\n",
        "api = HfApi()\n",
        "\n",
        "api.upload_folder(\n",
        "    folder_path=model_path,\n",
        "    repo_id=repo_id,\n",
        "    commit_message=\"model update\"\n",
        ")"
      ],
      "execution_count": null,
      "outputs": [
        {
          "output_type": "display_data",
          "data": {
            "text/plain": [
              "Processing Files (0 / 0)                : |          |  0.00B /  0.00B            "
            ],
            "application/vnd.jupyter.widget-view+json": {
              "version_major": 2,
              "version_minor": 0,
              "model_id": "b3f49a936fc04450b8659b4ed8a79bf6"
            }
          },
          "metadata": {}
        },
        {
          "output_type": "display_data",
          "data": {
            "text/plain": [
              "New Data Upload                         : |          |  0.00B /  0.00B            "
            ],
            "application/vnd.jupyter.widget-view+json": {
              "version_major": 2,
              "version_minor": 0,
              "model_id": "727b8f64e6e641d6a19cded7da82cc59"
            }
          },
          "metadata": {}
        },
        {
          "output_type": "display_data",
          "data": {
            "text/plain": [
              "  ...ompts/final_model/model.safetensors:  22%|##1       | 11.7MB / 54.2MB            "
            ],
            "application/vnd.jupyter.widget-view+json": {
              "version_major": 2,
              "version_minor": 0,
              "model_id": "b89a6d6eba744b219419f2e14dfaae38"
            }
          },
          "metadata": {}
        },
        {
          "output_type": "display_data",
          "data": {
            "text/plain": [
              "  ...ompts/final_model/training_args.bin:  22%|##1       | 1.16kB / 5.37kB            "
            ],
            "application/vnd.jupyter.widget-view+json": {
              "version_major": 2,
              "version_minor": 0,
              "model_id": "dd767f42df2d4eecbb03f96745eb8d88"
            }
          },
          "metadata": {}
        },
        {
          "output_type": "execute_result",
          "data": {
            "text/plain": [
              "CommitInfo(commit_url='https://huggingface.co/3nthusiast/SentinelAI/commit/6f14af1cc72bca71be3d87d849478713eb77424d', commit_message='Add initial ONNX and safetensor model', commit_description='', oid='6f14af1cc72bca71be3d87d849478713eb77424d', pr_url=None, repo_url=RepoUrl('https://huggingface.co/3nthusiast/SentinelAI', endpoint='https://huggingface.co', repo_type='model', repo_id='3nthusiast/SentinelAI'), pr_revision=None, pr_num=None)"
            ],
            "application/vnd.google.colaboratory.intrinsic+json": {
              "type": "string"
            }
          },
          "metadata": {},
          "execution_count": 14
        }
      ]
    },
    {
      "cell_type": "code",
      "source": [],
      "metadata": {
        "id": "haviWZOIeWpn"
      },
      "execution_count": null,
      "outputs": []
    }
  ]
}